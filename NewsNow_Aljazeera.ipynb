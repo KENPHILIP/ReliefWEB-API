{
  "nbformat": 4,
  "nbformat_minor": 0,
  "metadata": {
    "colab": {
      "provenance": []
    },
    "kernelspec": {
      "name": "python3",
      "display_name": "Python 3"
    },
    "language_info": {
      "name": "python"
    }
  },
  "cells": [
    {
      "cell_type": "markdown",
      "source": [
        "### **Disaster News Monitoring Script**\n",
        "\n",
        "This Python script monitors disaster-related news updates for ICPAC countries using the GNews and OpenCage APIs. It extracts relevant information such as location, deaths, affected, and displaced from the article content. The script geocodes the location to get latitude and longitude coordinates. It periodically checks for new articles based on specified keywords and saves the gathered data into a CSV file. The script runs in a loop, logging updates at regular intervals, and prints the number of new articles found each time. The main function initializes API keys, query, country list, check interval, and output file name."
      ],
      "metadata": {
        "id": "xJ9usrDJoUvZ"
      }
    },
    {
      "cell_type": "markdown",
      "source": [
        "Import Libraries"
      ],
      "metadata": {
        "id": "y9gRwDghneJB"
      }
    },
    {
      "cell_type": "code",
      "source": [
        "import requests\n",
        "import csv\n",
        "import time\n",
        "import re\n",
        "from datetime import datetime, timedelta\n"
      ],
      "metadata": {
        "id": "ZglQ0bw35Zcn"
      },
      "execution_count": 3,
      "outputs": []
    },
    {
      "cell_type": "markdown",
      "source": [
        "Extract Additional Information Function"
      ],
      "metadata": {
        "id": "9Ao1qKvIniuh"
      }
    },
    {
      "cell_type": "code",
      "source": [
        "# Function to extract additional information from article content\n",
        "def extract_additional_info(content):\n",
        "    location = None\n",
        "    deaths = 0\n",
        "    affected = 0\n",
        "    displaced = 0\n",
        "\n",
        "    # Regex patterns for extracting information\n",
        "    location_pattern = re.compile(r'(in|at|near|around)\\s([A-Za-z\\s]+)')\n",
        "    deaths_pattern = re.compile(r'(\\d+)\\s(deaths?|dead)')\n",
        "    affected_pattern = re.compile(r'(\\d+)\\s(affected|injured)')\n",
        "    displaced_pattern = re.compile(r'(\\d+)\\s(displaced)')\n",
        "\n",
        "    location_match = location_pattern.search(content)\n",
        "    if location_match:\n",
        "        location = location_match.group(2)\n",
        "\n",
        "    deaths_match = deaths_pattern.search(content)\n",
        "    if deaths_match:\n",
        "        deaths = int(deaths_match.group(1))\n",
        "\n",
        "    affected_match = affected_pattern.search(content)\n",
        "    if affected_match:\n",
        "        affected = int(affected_match.group(1))\n",
        "\n",
        "    displaced_match = displaced_pattern.search(content)\n",
        "    if displaced_match:\n",
        "        displaced = int(displaced_match.group(1))\n",
        "\n",
        "    return {\n",
        "        'location': location,\n",
        "        'deaths': deaths,\n",
        "        'affected': affected,\n",
        "        'displaced': displaced\n",
        "    }\n"
      ],
      "metadata": {
        "id": "sT-TWcXcmt3B"
      },
      "execution_count": 4,
      "outputs": []
    },
    {
      "cell_type": "markdown",
      "source": [
        "Geocode Location Function"
      ],
      "metadata": {
        "id": "_AgpgGHPnnO_"
      }
    },
    {
      "cell_type": "code",
      "source": [
        "# Function to geocode a location\n",
        "def geocode_location(api_key, location):\n",
        "    geocode_url = 'https://api.opencagedata.com/geocode/v1/json'\n",
        "    params = {\n",
        "        'q': location,\n",
        "        'key': api_key,\n",
        "        'limit': 1\n",
        "    }\n",
        "\n",
        "    response = requests.get(geocode_url, params=params)\n",
        "\n",
        "    if response.status_code == 200:\n",
        "        result = response.json()\n",
        "        if result['results']:\n",
        "            lat = result['results'][0]['geometry']['lat']\n",
        "            lng = result['results'][0]['geometry']['lng']\n",
        "            return lat, lng\n",
        "\n",
        "    return None, None  # Return None if the geocoding fails or no results found\n"
      ],
      "metadata": {
        "id": "Q5eUpifYnnFX"
      },
      "execution_count": 5,
      "outputs": []
    },
    {
      "cell_type": "markdown",
      "source": [
        "Get GNews Articles Function"
      ],
      "metadata": {
        "id": "OHAG4Io3nsSP"
      }
    },
    {
      "cell_type": "code",
      "source": [
        "# Function to get news articles from GNews\n",
        "def get_gnews_articles(api_key, query, countries, from_date, to_date):\n",
        "    articles = []\n",
        "    base_url = 'https://gnews.io/api/v4/search'\n",
        "\n",
        "    for country in countries:\n",
        "        params = {\n",
        "            'q': f\"{query} {country}\",\n",
        "            'from': from_date,\n",
        "            'to': to_date,\n",
        "            'lang': 'en',\n",
        "            'token': api_key,\n",
        "            'max': 100\n",
        "        }\n",
        "\n",
        "        response = requests.get(base_url, params=params)\n",
        "\n",
        "        if response.status_code == 200:\n",
        "            for article in response.json().get('articles', []):\n",
        "                # Extract additional info\n",
        "                additional_info = extract_additional_info(article['content'])\n",
        "                article.update(additional_info)  # Add additional info to the article\n",
        "\n",
        "                # Geocode the location if found\n",
        "                if additional_info['location']:\n",
        "                    lat, lng = geocode_location(opencage_api_key, additional_info['location'])\n",
        "                    article['latitude'] = lat\n",
        "                    article['longitude'] = lng\n",
        "\n",
        "                articles.append(article)\n",
        "        else:\n",
        "            print(f'Error {response.status_code}: {response.text}')\n",
        "\n",
        "    return articles\n"
      ],
      "metadata": {
        "id": "Tdu4FbFlnnB3"
      },
      "execution_count": 6,
      "outputs": []
    },
    {
      "cell_type": "markdown",
      "source": [
        "Save Articles to CSV Function"
      ],
      "metadata": {
        "id": "PEbKDbJVnywo"
      }
    },
    {
      "cell_type": "code",
      "source": [
        "# Function to save articles to CSV\n",
        "def save_articles_to_csv(articles, filename):\n",
        "    with open(filename, mode='w', newline='', encoding='utf-8') as file:\n",
        "        writer = csv.writer(file)\n",
        "        writer.writerow(['Title', 'PublishedAt', 'Source', 'URL', 'Location', 'Longitude', 'Latitude', 'Deaths', 'Affected', 'Displaced'])  # Header row\n",
        "        for article in articles:\n",
        "            writer.writerow([\n",
        "                article['title'],\n",
        "                article['publishedAt'],\n",
        "                article['source']['name'],\n",
        "                article['url'],\n",
        "                article.get('location', 'N/A'),\n",
        "                article.get('longitude', 'N/A'),\n",
        "                article.get('latitude', 'N/A'),\n",
        "                article.get('deaths', 0),\n",
        "                article.get('affected', 0),\n",
        "                article.get('displaced', 0)\n",
        "            ])\n"
      ],
      "metadata": {
        "id": "Yd7ABRVVnm-v"
      },
      "execution_count": 7,
      "outputs": []
    },
    {
      "cell_type": "markdown",
      "source": [
        "Monitor Updates Function"
      ],
      "metadata": {
        "id": "DHy25yrIn5J3"
      }
    },
    {
      "cell_type": "code",
      "source": [
        "# Function to monitor updates\n",
        "def monitor_updates(api_key, query, countries, check_interval, output_file):\n",
        "    last_checked = datetime.now()\n",
        "\n",
        "    while True:\n",
        "        print(f\"Checking for updates at {last_checked.strftime('%Y-%m-%d %H:%M:%S')}...\")\n",
        "\n",
        "        # Get articles from the last check time to now\n",
        "        articles = get_gnews_articles(api_key, query, countries, last_checked.isoformat(), datetime.now().isoformat())\n",
        "\n",
        "        if articles:\n",
        "            print(f\"Found {len(articles)} new articles.\")\n",
        "            save_articles_to_csv(articles, output_file)\n",
        "            print(f'Successfully saved {len(articles)} articles to {output_file}.')\n",
        "        else:\n",
        "            print(\"No new articles found.\")\n",
        "\n",
        "        last_checked = datetime.now()  # Update the last checked time\n",
        "        time.sleep(check_interval)  # Wait for the specified interval before checking again\n"
      ],
      "metadata": {
        "id": "QGBPQL5nnm7f"
      },
      "execution_count": 8,
      "outputs": []
    },
    {
      "cell_type": "markdown",
      "source": [
        "Main Function"
      ],
      "metadata": {
        "id": "Jq2Guh8Un-6w"
      }
    },
    {
      "cell_type": "code",
      "source": [
        "# Main function\n",
        "if __name__ == \"__main__\":\n",
        "    gnews_api_key = '3402cb6ce8b30e0297d209bee6cce955'  # Replace with your GNews API key\n",
        "    opencage_api_key = '8f5af4139c174071b690fed88bc80d11'  # Replace with your OpenCage API key\n",
        "    query = 'disaster OR hurricane OR calamity OR health OR earthquake OR flood'\n",
        "    icpac_countries = ['Djibouti', 'Ethiopia', 'Tanzania', 'Eritrea', 'Kenya', 'Burundi', 'Somalia', 'South Sudan', 'Sudan', 'Rwanda', 'Uganda']\n",
        "\n",
        "    # Set the monitoring interval (e.g., check every 60 seconds)\n",
        "    check_interval = 60  # in seconds\n",
        "    csv_filename = 'disaster_news_icpac.csv'\n",
        "\n",
        "    # Start monitoring updates\n",
        "    monitor_updates(gnews_api_key, query, icpac_countries, check_interval, csv_filename)\n"
      ],
      "metadata": {
        "colab": {
          "base_uri": "https://localhost:8080/"
        },
        "id": "tJr-L8fYnm3n",
        "outputId": "066b1e1a-6ed8-473c-a53d-f704131a1803"
      },
      "execution_count": null,
      "outputs": [
        {
          "output_type": "stream",
          "name": "stdout",
          "text": [
            "Checking for updates at 2024-08-02 05:46:36...\n",
            "Found 101 new articles.\n",
            "Successfully saved 101 articles to disaster_news_icpac.csv.\n",
            "Checking for updates at 2024-08-02 05:47:33...\n"
          ]
        }
      ]
    },
    {
      "cell_type": "code",
      "source": [],
      "metadata": {
        "id": "ryW9ZtRDnmtY"
      },
      "execution_count": null,
      "outputs": []
    }
  ]
}